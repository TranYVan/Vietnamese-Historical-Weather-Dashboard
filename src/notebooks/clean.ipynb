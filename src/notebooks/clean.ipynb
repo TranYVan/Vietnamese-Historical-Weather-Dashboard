{
 "cells": [
  {
   "cell_type": "code",
   "execution_count": 3,
   "metadata": {},
   "outputs": [],
   "source": [
    "import pandas as pd\n",
    "\n",
    "weather = pd.read_csv('../../data/weather.csv', header=0)\n",
    "vn = {\n",
    "    'Bac Lieu': 'Bạc Liêu',\n",
    "    'Ho Chi Minh City': 'Hồ Chí Minh',\n",
    "    'Tam Ky': 'Tam Kỳ',\n",
    "    'Ben Tre': 'Bến Tre',\n",
    "    'Hoa Binh': 'Hòa Bình',\n",
    "    'Tan An': 'Tân An',\n",
    "    'Bien Hoa': 'Biên Hòa',\n",
    "    'Hong Gai': 'Hòn Gai',\n",
    "    'Thai Nguyen': 'Thái Nguyên',\n",
    "    'Buon Me Thuot': 'Buôn Ma Thuột',\n",
    "    'Hue': 'Huế',\n",
    "    'Thanh Hoa': 'Thanh Hóa',\n",
    "    'Ca Mau': 'Cà Mau',\n",
    "    'Long Xuyen': 'Long Xuyên',\n",
    "    'Tra Vinh': 'Trà Vinh',\n",
    "    'Cam Pha': 'Cám Phả',\n",
    "    'My Tho': 'Mỹ Tho',\n",
    "    'Tuy Hoa': 'Tuy Hòa',\n",
    "    'Cam Ranh': 'Cam Ranh',\n",
    "    'Nam Dinh': 'Nam Định',\n",
    "    'Uong Bi': 'Úc Bí',\n",
    "    'Can Tho': 'Cần Thơ',\n",
    "    'Nha Trang': 'Nha Trang',\n",
    "    'Viet Tri': 'Việt Trì',\n",
    "    'Chau Doc': 'Châu Đốc',\n",
    "    'Phan Rang': 'Phan Rang',\n",
    "    'Vinh': 'Vinh',\n",
    "    'Da Lat': 'Đà Lạt',\n",
    "    'Phan Thiet': 'Phan Thiết',\n",
    "    'Vinh Long': 'Vĩnh Long',\n",
    "    'Ha Noi': 'Hà Nội',\n",
    "    'Play Cu': 'Pleiku',\n",
    "    'Vung Tau': 'Vũng Tàu',\n",
    "    'Hai Duong': 'Hải Dương',\n",
    "    'Qui Nhon': 'Quy Nhơn',\n",
    "    'Yen Bai': 'Yên Bái',\n",
    "    'Hai Phong': 'Hải Phòng',\n",
    "    'Rach Gia': 'Rạch Giá',\n",
    "    'Hanoi': 'Hà Nội',\n",
    "    'Soc Trang': 'Sóc Trăng'\n",
    "}\n",
    "\n",
    "weather['vn'] = weather['province'].map(vn)\n",
    "columns = weather.columns.tolist()\n",
    "province_index = columns.index('province')\n",
    "columns.insert(province_index + 1, columns.pop(columns.index('vn')))\n",
    "weather = weather[columns]\n",
    "weather.to_csv('../../data/cleaned.csv', index=False, encoding='utf-8')\n"
   ]
  }
 ],
 "metadata": {
  "kernelspec": {
   "display_name": "Python 3",
   "language": "python",
   "name": "python3"
  },
  "language_info": {
   "codemirror_mode": {
    "name": "ipython",
    "version": 3
   },
   "file_extension": ".py",
   "mimetype": "text/x-python",
   "name": "python",
   "nbconvert_exporter": "python",
   "pygments_lexer": "ipython3",
   "version": "3.10.12"
  }
 },
 "nbformat": 4,
 "nbformat_minor": 2
}
